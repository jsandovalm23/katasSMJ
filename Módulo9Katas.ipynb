{
  "cells": [
    {
      "cell_type": "markdown",
      "metadata": {},
      "source": [
        "# Ejercicio: Uso de funciones en Python"
      ]
    },
    {
      "cell_type": "markdown",
      "metadata": {},
      "source": [
        "### Ejercicio 1: Trabajar con argumentos en funciones\n",
        "\n",
        "Los argumentos requeridos en las funciones se utilizan cuando las funciones necesitan que esos argumentos funcionen correctamente. En este ejercicio, construirás un informe de combustible que requiere información de varias ubicaciones de combustible en todo el cohete.\n",
        "\n"
      ]
    },
    {
      "cell_type": "markdown",
      "metadata": {},
      "source": [
        "> **TIP**\n",
        "> Dedica unos minutos para tratar de encontrar una solución. Luego desplázate hacia abajo hasta la parte inferior para ver si has logrado compilar el programa de acuerdo con las especificaciones\n",
        "\n",
        "Comienza por crear una función que necesite tres lecturas de combustible y devuelva un informe:"
      ]
    },
    {
      "cell_type": "code",
      "execution_count": 5,
      "metadata": {},
      "outputs": [],
      "source": [
        "# Función para leer 3 tanques de combustible y muestre el promedio\n",
        "def fuelInformation(mainTank, secundaryTank, emergencyTank):\n",
        "    totalFuel = (mainTank + secundaryTank + emergencyTank)/3\n",
        "    return f'''General Fuel information\n",
        "    Total Fuel: {round(totalFuel,2)}%\n",
        "    Main Tank: {mainTank}%\n",
        "    Secundary tank: {secundaryTank}%\n",
        "    Emergency Tank: {emergencyTank}%\n",
        "    '''"
      ]
    },
    {
      "cell_type": "markdown",
      "metadata": {},
      "source": [
        "Ahora que hemos definido la función de informes, vamos a comprobarlo. Para esta misión, los tanques no están llenos:"
      ]
    },
    {
      "cell_type": "code",
      "execution_count": 6,
      "metadata": {},
      "outputs": [
        {
          "name": "stdout",
          "output_type": "stream",
          "text": [
            "General Fuel information\n",
            "    Total Fuel: 78.67%\n",
            "    Main Tank: 67%\n",
            "    Secundary tank: 84%\n",
            "    Emergency Tank: 85%\n",
            "    \n"
          ]
        }
      ],
      "source": [
        "\n",
        "# Llamamos a la función que genera el reporte print(funcion(tanque1, tanque2, tanque3))\n",
        "print(fuelInformation(67,84,85))"
      ]
    },
    {
      "cell_type": "markdown",
      "metadata": {},
      "source": [
        "En lugar de simplemente crear el informe, la función también está calculando el promedio. Mejora la legibilidad extrayendo el cálculo promedio de la función en una nueva función para que el promedio se pueda hacer de forma independiente:"
      ]
    },
    {
      "cell_type": "code",
      "execution_count": 17,
      "metadata": {},
      "outputs": [],
      "source": [
        "# Función promedio \n",
        "def avarageFuel(data):\n",
        "    totalAmount = sum(data)\n",
        "    numberItems = len(data)\n",
        "    return round(totalAmount/numberItems,2)"
      ]
    },
    {
      "cell_type": "markdown",
      "metadata": {},
      "source": [
        "Ahora actualiza la función de informes para llamando a la nueva función del promedio:\n"
      ]
    },
    {
      "cell_type": "code",
      "execution_count": 19,
      "metadata": {},
      "outputs": [
        {
          "name": "stdout",
          "output_type": "stream",
          "text": [
            "General Fuel information\n",
            "    Total Fuel: 69.33%\n",
            "    Main Tank: 54%\n",
            "    Secundary tank: 72%\n",
            "    Emergency Tank: 82%\n",
            "    \n"
          ]
        }
      ],
      "source": [
        "# Actualiza la función\n",
        "def fuelInformation(mainTank, secundaryTank, emergencyTank):\n",
        "\n",
        "    return f'''General Fuel information\n",
        "    Total Fuel: {avarageFuel([mainTank,secundaryTank,emergencyTank])}%\n",
        "    Main Tank: {mainTank}%\n",
        "    Secundary tank: {secundaryTank}%\n",
        "    Emergency Tank: {emergencyTank}%\n",
        "    '''\n",
        "\n",
        "print(fuelInformation(54,72,82))"
      ]
    },
    {
      "cell_type": "markdown",
      "metadata": {},
      "source": [
        "> Recuerda: Lo importante es intentarlo, puedes auxiliarte de internet, libros, etc. El objetivo de una kata es la comprobación de la comprensión de la lección y su aplicación inmediata a la resolución de problemas. Go for it!"
      ]
    },
    {
      "cell_type": "markdown",
      "metadata": {},
      "source": [
        "## Ejercicio 2: Trabajo con argumentos de palabra clave"
      ]
    },
    {
      "cell_type": "markdown",
      "metadata": {},
      "source": [
        "### Ejercicio : Trabajar con argumentos de palabras clave en funciones\n",
        "En este ejercicio, construirás un informe de cohete que requiere varias piezas de información, como el tiempo hasta el destino, el combustible a la izquierda y el nombre del destino. Comienza por crear una función que creará un informe preciso de la misión:"
      ]
    },
    {
      "cell_type": "code",
      "execution_count": 11,
      "metadata": {},
      "outputs": [
        {
          "name": "stdout",
          "output_type": "stream",
          "text": [
            "Mission information\n",
            "    Destination: Jupiter \n",
            "    Total Time: 782 minutes\n",
            "    Tanks: External[9800000 gallons] | Internal[9900000 gallons]\n",
            "    \n"
          ]
        }
      ],
      "source": [
        "# Función con un informe preciso de la misión. Considera hora de prelanzamiento, tiempo de vuelo, destino, tanque externo y tanque interno\n",
        "def missionInformation(destination, plaunchTime, flightTime, externalTank, internalTank):\n",
        "    return f'''Mission information\n",
        "    Destination: {destination} \n",
        "    Total Time: {plaunchTime + flightTime} minutes\n",
        "    Tanks: External[{externalTank} gallons] | Internal[{internalTank} gallons]\n",
        "    '''\n",
        "print(missionInformation(\"Jupiter\",32,750,9800000,9900000))"
      ]
    },
    {
      "cell_type": "markdown",
      "metadata": {},
      "source": [
        "La función es problemática porque no se puede adaptar para minutos adicionales o tanques adicionales de combustible. Hazlo más flexible permitiendo cualquier número de pasos basados en el tiempo y cualquier número de tanques. En lugar de usar `*args` y `**kwargs`, aprovecha el hecho de que puedes usar cualquier nombre que desees. Asegurate que la función sea más legible mediante el uso de nombres de variables que están asociados con las entradas, como `*minutes` y `**fuel_reservoirs`:"
      ]
    },
    {
      "cell_type": "code",
      "execution_count": 13,
      "metadata": {},
      "outputs": [
        {
          "name": "stdout",
          "output_type": "stream",
          "text": [
            "Mission information\n",
            "    Destination: Jupiter \n",
            "    Total Time: 1556 minutes\n",
            "    Tanks: 19700000 gallons\n",
            "    \n"
          ]
        }
      ],
      "source": [
        "# Escribe tu nueva función de reporte considerando lo anterior\n",
        "def missionInformation(destination,*flightTime, **fuelTanks):\n",
        "    return f'''Mission information\n",
        "    Destination: {destination} \n",
        "    Total Time: {sum(flightTime)} minutes\n",
        "    Tanks: {sum(fuelTanks.values())} gallons\n",
        "    '''\n",
        "print(missionInformation(\"Jupiter\",32,750,454,320,external=9800000,internal=9900000))"
      ]
    },
    {
      "cell_type": "markdown",
      "metadata": {},
      "source": [
        "Debido a que el combustible que queda en los tanques es específico de cada tanque, actualiza la función para usar el nombre de cada tanque en el informe:"
      ]
    },
    {
      "cell_type": "code",
      "execution_count": 35,
      "metadata": {},
      "outputs": [
        {
          "name": "stdout",
          "output_type": "stream",
          "text": [
            "Mission information\n",
            "    Destination: Jupiter \n",
            "    Total Time: 1556 minutes\n",
            "    Tanks: 19700000 gallons\n",
            "    | External[9800000 gallons] || Internal[9900000 gallons] |\n"
          ]
        }
      ],
      "source": [
        "# Escribe tu nueva función\n",
        "def missionInformation(destination,*flightTime, **fuelTanks):\n",
        "    dataMission = f'''Mission information\n",
        "    Destination: {destination} \n",
        "    Total Time: {sum(flightTime)} minutes\n",
        "    Tanks: {sum(fuelTanks.values())} gallons\n",
        "    '''\n",
        "    for tankID, capacityT in fuelTanks.items():\n",
        "        dataMission += f\"| {tankID}[{capacityT} gallons] |\"\n",
        "    return dataMission\n",
        "    \n",
        "print(missionInformation(\"Jupiter\",32,750,454,320,External=9800000,Internal=9900000))"
      ]
    },
    {
      "cell_type": "markdown",
      "metadata": {},
      "source": [
        "## Soluciones"
      ]
    },
    {
      "cell_type": "markdown",
      "metadata": {},
      "source": [
        "## Ejercicio 1"
      ]
    },
    {
      "cell_type": "code",
      "execution_count": 36,
      "metadata": {},
      "outputs": [],
      "source": [
        "# Función para leer 3 tanques de combustible y muestre el promedio\n",
        "\n",
        "def generate_report(main_tank, external_tank, hydrogen_tank):\n",
        "    total_average = (main_tank + external_tank + hydrogen_tank) / 3\n",
        "    return f\"\"\"Fuel Report:\n",
        "    Total Average: {total_average}%\n",
        "    Main tank: {main_tank}%\n",
        "    External tank: {external_tank}%\n",
        "    Hydrogen tank: {hydrogen_tank}% \n",
        "    \"\"\"\n"
      ]
    },
    {
      "cell_type": "code",
      "execution_count": 37,
      "metadata": {},
      "outputs": [
        {
          "name": "stdout",
          "output_type": "stream",
          "text": [
            "Fuel Report:\n",
            "    Total Average: 78.33333333333333%\n",
            "    Main tank: 80%\n",
            "    External tank: 70%\n",
            "    Hydrogen tank: 85% \n",
            "    \n"
          ]
        }
      ],
      "source": [
        "# Llamamos a la función que genera el reporte print(funcion(tanque1, tanque2, tanque3))\n",
        "print(generate_report(80, 70, 85))"
      ]
    },
    {
      "cell_type": "code",
      "execution_count": 38,
      "metadata": {},
      "outputs": [
        {
          "data": {
            "text/plain": [
              "82.0"
            ]
          },
          "execution_count": 38,
          "metadata": {},
          "output_type": "execute_result"
        }
      ],
      "source": [
        "# Función promedio \n",
        "def average(values):\n",
        "    total = sum(values)\n",
        "    number_of_items = len(values)\n",
        "    return total / number_of_items\n",
        "\n",
        "# Test the averaging function with a list of integers:\n",
        "average([80, 85, 81]) "
      ]
    },
    {
      "cell_type": "code",
      "execution_count": 40,
      "metadata": {},
      "outputs": [
        {
          "name": "stdout",
          "output_type": "stream",
          "text": [
            "Fuel Report:\n",
            "    Total Average: 78.0%\n",
            "    Main tank: 88%\n",
            "    External tank: 76%\n",
            "    Hydrogen tank: 70% \n",
            "    \n"
          ]
        }
      ],
      "source": [
        "# Actualiza la función\n",
        "def generate_report(main_tank, external_tank, hydrogen_tank):\n",
        "    return f\"\"\"Fuel Report:\n",
        "    Total Average: {average([main_tank, external_tank, hydrogen_tank])}%\n",
        "    Main tank: {main_tank}%\n",
        "    External tank: {external_tank}%\n",
        "    Hydrogen tank: {hydrogen_tank}% \n",
        "    \"\"\"\n",
        "\n",
        "# Call the updated function again with different values\n",
        "print(generate_report(88, 76, 70))"
      ]
    },
    {
      "cell_type": "markdown",
      "metadata": {},
      "source": [
        "### Ejercicio 2:"
      ]
    },
    {
      "cell_type": "code",
      "execution_count": 41,
      "metadata": {},
      "outputs": [
        {
          "name": "stdout",
          "output_type": "stream",
          "text": [
            "\n",
            "    Mission to Moon\n",
            "    Total travel time: 65 minutes\n",
            "    Total fuel left: 500000 gallons\n",
            "    \n"
          ]
        }
      ],
      "source": [
        "# Función con un informe preciso de la misión. Considera hora de prelanzamiento, tiempo de vuelo, destino, tanque externo y tanque interno\n",
        "\n",
        "def mission_report(pre_launch_time, flight_time, destination, external_tank, main_tank):\n",
        "    return f\"\"\"\n",
        "    Mission to {destination}\n",
        "    Total travel time: {pre_launch_time + flight_time} minutes\n",
        "    Total fuel left: {external_tank + main_tank} gallons\n",
        "    \"\"\"\n",
        "\n",
        "print(mission_report(14, 51, \"Moon\", 200000, 300000))"
      ]
    },
    {
      "cell_type": "code",
      "execution_count": 42,
      "metadata": {},
      "outputs": [
        {
          "name": "stdout",
          "output_type": "stream",
          "text": [
            "\n",
            "    Mission to Moon\n",
            "    Total travel time: 76 minutes\n",
            "    Total fuel left: 500000\n",
            "    \n"
          ]
        }
      ],
      "source": [
        "# Escribe tu nueva función de reporte considerando lo anterior\n",
        "\n",
        "def mission_report(destination, *minutes, **fuel_reservoirs):\n",
        "    return f\"\"\"\n",
        "    Mission to {destination}\n",
        "    Total travel time: {sum(minutes)} minutes\n",
        "    Total fuel left: {sum(fuel_reservoirs.values())}\n",
        "    \"\"\"\n",
        "\n",
        "print(mission_report(\"Moon\", 10, 15, 51, main=300000, external=200000))"
      ]
    },
    {
      "cell_type": "code",
      "execution_count": 43,
      "metadata": {},
      "outputs": [
        {
          "name": "stdout",
          "output_type": "stream",
          "text": [
            "\n",
            "    Mission to Moon\n",
            "    Total travel time: 74 minutes\n",
            "    Total fuel left: 500000\n",
            "    main tank --> 300000 gallons left\n",
            "external tank --> 200000 gallons left\n",
            "\n"
          ]
        }
      ],
      "source": [
        "# Escribe tu nueva función\n",
        "\n",
        "def mission_report(destination, *minutes, **fuel_reservoirs):\n",
        "    main_report = f\"\"\"\n",
        "    Mission to {destination}\n",
        "    Total travel time: {sum(minutes)} minutes\n",
        "    Total fuel left: {sum(fuel_reservoirs.values())}\n",
        "    \"\"\"\n",
        "    for tank_name, gallons in fuel_reservoirs.items():\n",
        "        main_report += f\"{tank_name} tank --> {gallons} gallons left\\n\"\n",
        "    return main_report\n",
        "\n",
        "print(mission_report(\"Moon\", 8, 11, 55, main=300000, external=200000))"
      ]
    },
    {
      "cell_type": "markdown",
      "metadata": {},
      "source": [
        "---\n",
        "\n",
        "Curso Propedútico de Python para Launch X - Innovacción Virtual.\n",
        "\n",
        "Material desarrollado con base en los contenidos de MSLearn y la metáfora de LaunchX, traducción e implementación por: Fernanda Ochoa - Learning Producer de LaunchX.\n",
        "\n",
        "Redes:\n",
        "* GitHub: [FernandaOchoa](https://github.com/FernandaOchoa)\n",
        "* Twitter: [@imonsh](https://twitter.com/imonsh)\n",
        "* Instagram: [fherz8a](https://www.instagram.com/fherz8a/)"
      ]
    }
  ],
  "metadata": {
    "interpreter": {
      "hash": "205095b8b86ea82a021a8fc2ffba2b3bc9f8d0be25999901963b225939f75778"
    },
    "kernelspec": {
      "display_name": "Python 3.8.10 64-bit ('tmp': conda)",
      "name": "python3"
    },
    "language_info": {
      "codemirror_mode": {
        "name": "ipython",
        "version": 3
      },
      "file_extension": ".py",
      "mimetype": "text/x-python",
      "name": "python",
      "nbconvert_exporter": "python",
      "pygments_lexer": "ipython3",
      "version": "3.10.2"
    },
    "nteract": {
      "version": "nteract-front-end@1.0.0"
    },
    "orig_nbformat": 4
  },
  "nbformat": 4,
  "nbformat_minor": 2
}
